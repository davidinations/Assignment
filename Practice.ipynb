{
 "cells": [
  {
   "cell_type": "markdown",
   "metadata": {},
   "source": [
    "1. Write a program that will give you the result of adding and reversing four-digit numbers."
   ]
  },
  {
   "cell_type": "code",
   "execution_count": 3,
   "metadata": {},
   "outputs": [
    {
     "name": "stdout",
     "output_type": "stream",
     "text": [
      "total :  22\n",
      "reverse :  7654\n"
     ]
    }
   ],
   "source": [
    "import math\n",
    "\n",
    "# 1. Inputan User Berupa Angka\n",
    "number = str(input(\"Enter the four digit number: \"))\n",
    "\n",
    "# Jumlahkan Masing-masing digit\n",
    "resultSum = math.floor(int(number[0]) + int(number[1]) + int(number[2]) + int(number[3]))\n",
    "\n",
    "# Munculkan Hasil Penjumlahan-nya\n",
    "print(\"total : \", resultSum)\n",
    "\n",
    "# Reverse Angka-nya (Dalam Kasus Ini 4 Angka)\n",
    "reverse = number[3] + number[2] + number[1] + number[0]\n",
    "\n",
    "# Munculkan Hasil Reverse-nya\n",
    "print(\"reverse : \", reverse)"
   ]
  },
  {
   "cell_type": "markdown",
   "metadata": {},
   "source": [
    "2. Write a script that prompts the user to enter the coordinates of point (x, y). Find the slope and Euclidean distance between point (x1, y1) and point (x2, y2)."
   ]
  },
  {
   "cell_type": "code",
   "execution_count": 4,
   "metadata": {},
   "outputs": [
    {
     "name": "stdout",
     "output_type": "stream",
     "text": [
      "1.0\n",
      "2.8284271247461903\n"
     ]
    }
   ],
   "source": [
    "# Modul - Python Untuk Keperluan Nanti\n",
    "import math\n",
    "\n",
    "# Masukkan Inputan User (Diharuskan 2 angka dengan pemisah koma kalau gak error)\n",
    "x1, y1 = input(\"Enter the coordinate point a: \").split(\",\")\n",
    "x2, y2 = input(\"Enter the coordinate point b: \").split(\",\")\n",
    "\n",
    "# Konversi Inputan User Ke Dalam Variabel Integer\n",
    "x1, x2, y1, y2 = int(x1), int(x2), int(y1), int(y2)\n",
    "\n",
    "# Rumus Gradien\n",
    "gradien = (y2 - y1) / (x2 - x1)\n",
    "\n",
    "# Rumus Jarak Euclidean Antar 2 Titik\n",
    "result = math.sqrt((y2 - y1)**2 + (x2 - x1)**2)\n",
    "\n",
    "# Munculkan Hasilnya\n",
    "print(gradien)\n",
    "print(result)"
   ]
  },
  {
   "cell_type": "markdown",
   "metadata": {},
   "source": [
    "3. Write a python program to get a single string from two given strings, separated by a space and swap the first three characters of each string."
   ]
  },
  {
   "cell_type": "code",
   "execution_count": 6,
   "metadata": {},
   "outputs": [
    {
     "name": "stdout",
     "output_type": "stream",
     "text": [
      "Yat, Tes\n"
     ]
    }
   ],
   "source": [
    "# Tempatkan Variabel Dengan Inputan User (Diharuskan 2 huruf dengan pemisah koma supaya gak error)\n",
    "x1, x2 = input(\"Ketik Kalimat yang diinginkan: \").split(\" \")\n",
    "\n",
    "# Konversi Inputan User Ke Dalam Variabel String Untuk Penghilang tanda Koma\n",
    "x1, x2 = x1.strip(), x2.strip()\n",
    "\n",
    "# rumus sesuai perintah soal dimana menukar 2 huruf pertama dari masing-masing kata \n",
    "# lalu untuk 3 huruf berikutnya ditukar kembali dari masing-masing kata\n",
    "text = f'{x2[:3] + x1[3:]} {x1[:3] + x2[3:]}'\n",
    "\n",
    "# Munculkan Hasilnya\n",
    "print(text)\n"
   ]
  },
  {
   "cell_type": "markdown",
   "metadata": {},
   "source": [
    "4. Create a new string made of the first, middle, and last characters of each input string."
   ]
  },
  {
   "cell_type": "code",
   "execution_count": null,
   "metadata": {},
   "outputs": [
    {
     "name": "stdout",
     "output_type": "stream",
     "text": [
      "YPkdaa\n"
     ]
    }
   ],
   "source": [
    "# 2 Variabel Untuk Inputan User\n",
    "Word1 = str(input(\"Enter the first word: \"))\n",
    "Word2 = str(input(\"Enter the second word: \"))\n",
    "\n",
    "# 2 Variabel Untuk Menampung Huruf Pertama\n",
    "FirstAlphabetInWord1 = Word1[0]\n",
    "FirstAlphabetInWord2 = Word2[0]\n",
    "\n",
    "# 2 Variabel Untuk Menampung Huruf Terakhir\n",
    "LastAlphabetInWord1 = Word1[-1]\n",
    "LastAlphabetInWord2 = Word2[-1]\n",
    "\n",
    "# 2 Variabel Untuk Menampung Huruf Tengah\n",
    "MiddleAlphabetInWord1 = Word1[int(len(Word1) / 2)]\n",
    "MiddleAlphabetInWord2 = Word2[int(len(Word2) / 2)]\n",
    "\n",
    "\n",
    "# variabel untuk menampung hasil semua huruf yang sudah diambil\n",
    "Result = FirstAlphabetInWord1 + FirstAlphabetInWord2 + MiddleAlphabetInWord1 + MiddleAlphabetInWord2 + LastAlphabetInWord1 + LastAlphabetInWord2\n",
    "\n",
    "# Munculkan Hasilnya\n",
    "print(Result)"
   ]
  },
  {
   "cell_type": "markdown",
   "metadata": {},
   "source": [
    "5. Given two strings. Write a program to create a new string by appending the second string in the middle of first string."
   ]
  },
  {
   "cell_type": "code",
   "execution_count": null,
   "metadata": {},
   "outputs": [
    {
     "name": "stdout",
     "output_type": "stream",
     "text": [
      "JC0210DS\n"
     ]
    }
   ],
   "source": [
    "# 2 Variabel Untuk Inputan User\n",
    "Word1 = str(input(\"Enter the first word: \"))\n",
    "Word2 = str(input(\"Enter the second word: \"))\n",
    "\n",
    "# Variabel Untuk Menampung Huruf Setengah huruf Awal Dari Kata Pertama\n",
    "FirstHalfWord1 = Word1[0:int(len(Word1) / 2)]\n",
    "\n",
    "# Variabel Untuk Menampung Huruf Setengah huruf Akhir Dari Kata Pertama\n",
    "LastHalfWord1 = Word1[int(len(Word1) / 2):]\n",
    "\n",
    "# Memuculkan Hasilnya dengan menampung \n",
    "# huruf awal dari kata pertama dilanjut dengan kata kedua lalu dilanjut lagi dengan huruf akhir dari kata pertama\n",
    "print(FirstHalfWord1+Word2+LastHalfWord1)\n"
   ]
  }
 ],
 "metadata": {
  "kernelspec": {
   "display_name": "Python 3",
   "language": "python",
   "name": "python3"
  },
  "language_info": {
   "codemirror_mode": {
    "name": "ipython",
    "version": 3
   },
   "file_extension": ".py",
   "mimetype": "text/x-python",
   "name": "python",
   "nbconvert_exporter": "python",
   "pygments_lexer": "ipython3",
   "version": "3.11.0"
  },
  "orig_nbformat": 4
 },
 "nbformat": 4,
 "nbformat_minor": 2
}
