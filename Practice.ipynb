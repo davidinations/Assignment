{
 "cells": [
  {
   "cell_type": "markdown",
   "metadata": {},
   "source": [
    "1. Write a program that will give you the result of adding and reversing four-digit numbers."
   ]
  },
  {
   "cell_type": "code",
   "execution_count": 41,
   "metadata": {},
   "outputs": [
    {
     "ename": "SyntaxError",
     "evalue": "invalid syntax. Perhaps you forgot a comma? (3937715912.py, line 7)",
     "output_type": "error",
     "traceback": [
      "\u001b[1;36m  Cell \u001b[1;32mIn[41], line 7\u001b[1;36m\u001b[0m\n\u001b[1;33m    print(\"total : \"resultSum)\u001b[0m\n\u001b[1;37m          ^\u001b[0m\n\u001b[1;31mSyntaxError\u001b[0m\u001b[1;31m:\u001b[0m invalid syntax. Perhaps you forgot a comma?\n"
     ]
    }
   ],
   "source": [
    "import math\n",
    "\n",
    "number = str(input(\"Enter the four digit number: \"))\n",
    "\n",
    "resultSum = math.floor(int(number[0]) + int(number[1]) + int(number[2]) + int(number[3]))\n",
    "\n",
    "print(\"total : \"resultSum)\n",
    "\n",
    "reverse = number[3] + number[2] + number[1] + number[0]\n",
    "\n",
    "print(\"reverse : \"reverse)"
   ]
  },
  {
   "cell_type": "markdown",
   "metadata": {},
   "source": [
    "2. Write a script that prompts the user to enter the coordinates of point (x, y). Find the slope and Euclidean distance between point (x1, y1) and point (x2, y2)."
   ]
  },
  {
   "cell_type": "code",
   "execution_count": 16,
   "metadata": {},
   "outputs": [
    {
     "name": "stdout",
     "output_type": "stream",
     "text": [
      "2.0\n",
      "2.23606797749979\n"
     ]
    }
   ],
   "source": [
    "import math\n",
    "\n",
    "# a = str(input(\"Enter the coordinate point a: \")) \n",
    "# b = str(input(\"Enter the coordinate point b: \")) \n",
    "\n",
    "x1, y1 = input(\"Enter the coordinate point a: \").split(\",\")\n",
    "x2, y2 = input(\"Enter the coordinate point b: \").split(\",\")\n",
    "\n",
    "x1, x2, y1, y2 = int(x1), int(x2), int(y1), int(y2)\n",
    "\n",
    "# y2 = int(b[3])\n",
    "# y1 = int(a[3])\n",
    "# x2 = int(b[0])\n",
    "# x1 = int(a[0])\n",
    "\n",
    "gradien = (y2 - y1) / (x2 - x1)\n",
    "\n",
    "result = math.sqrt((y2 - y1)**2 + (x2 - x1)**2)\n",
    "\n",
    "print(gradien)\n",
    "print(result)"
   ]
  },
  {
   "cell_type": "markdown",
   "metadata": {},
   "source": [
    "3. Write a python program to get a single string from two given strings, separated by a space and swap the first three characters of each string."
   ]
  },
  {
   "cell_type": "code",
   "execution_count": 39,
   "metadata": {},
   "outputs": [
    {
     "name": "stdout",
     "output_type": "stream",
     "text": [
      "dhiwa Purka\n"
     ]
    }
   ],
   "source": [
    "x1, x2 = input(\"Ketik Kalimat yang diinginkan: \").split(',')\n",
    "\n",
    "x1, x2 = x1.strip(), x2.strip()\n",
    "text = f'{x2[:3] + x1[3:]} {x1[:3] + x2[3:]}'\n",
    "\n",
    "print(text)\n"
   ]
  },
  {
   "cell_type": "markdown",
   "metadata": {},
   "source": [
    "4. Create a new string made of the first, middle, and last characters of each input string."
   ]
  },
  {
   "cell_type": "code",
   "execution_count": 43,
   "metadata": {},
   "outputs": [
    {
     "name": "stdout",
     "output_type": "stream",
     "text": [
      "YPkdaa\n"
     ]
    }
   ],
   "source": [
    "Word1 = str(input(\"Enter the first word: \"))\n",
    "Word2 = str(input(\"Enter the second word: \"))\n",
    "\n",
    "FirstAlphabetInWord1 = Word1[0]\n",
    "FirstAlphabetInWord2 = Word2[0]\n",
    "\n",
    "LastAlphabetInWord1 = Word1[-1]\n",
    "LastAlphabetInWord2 = Word2[-1]\n",
    "\n",
    "MiddleAlphabetInWord1 = Word1[int(len(Word1) / 2)]\n",
    "MiddleAlphabetInWord2 = Word2[int(len(Word2) / 2)]\n",
    "\n",
    "Result = FirstAlphabetInWord1 + FirstAlphabetInWord2 + MiddleAlphabetInWord1 + MiddleAlphabetInWord2 + LastAlphabetInWord1 + LastAlphabetInWord2\n",
    "\n",
    "print(Result)"
   ]
  },
  {
   "cell_type": "markdown",
   "metadata": {},
   "source": [
    "5. Given two strings. Write a program to create a new string by appending the second string in the middle of first string."
   ]
  },
  {
   "cell_type": "code",
   "execution_count": null,
   "metadata": {},
   "outputs": [
    {
     "name": "stdout",
     "output_type": "stream",
     "text": [
      "JC0210DS\n"
     ]
    }
   ],
   "source": [
    "Word1 = str(input(\"Enter the first word: \"))\n",
    "Word2 = str(input(\"Enter the second word: \"))\n",
    "\n",
    "FirstHalfWord1 = Word1[0:int(len(Word1) / 2)]\n",
    "LastHalfWord1 = Word1[int(len(Word1) / 2):]\n",
    "\n",
    "print(FirstHalfWord1+Word2+LastHalfWord1)\n"
   ]
  }
 ],
 "metadata": {
  "kernelspec": {
   "display_name": "Python 3",
   "language": "python",
   "name": "python3"
  },
  "language_info": {
   "codemirror_mode": {
    "name": "ipython",
    "version": 3
   },
   "file_extension": ".py",
   "mimetype": "text/x-python",
   "name": "python",
   "nbconvert_exporter": "python",
   "pygments_lexer": "ipython3",
   "version": "3.11.0"
  },
  "orig_nbformat": 4
 },
 "nbformat": 4,
 "nbformat_minor": 2
}
